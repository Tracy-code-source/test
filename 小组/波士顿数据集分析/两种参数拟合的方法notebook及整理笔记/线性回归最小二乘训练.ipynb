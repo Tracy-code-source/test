{
 "cells": [
  {
   "cell_type": "code",
   "execution_count": 24,
   "id": "88cab0b1-19e9-435e-b21b-6fdba31273b0",
   "metadata": {},
   "outputs": [],
   "source": [
    "# 导入数据处理库及数据可视化库\n",
    "import numpy as np\n",
    "import matplotlib.pyplot as plt\n",
    "import pandas as pd"
   ]
  },
  {
   "cell_type": "code",
   "execution_count": 26,
   "id": "3c4611b3-6ab2-4850-a432-3436353b7e08",
   "metadata": {},
   "outputs": [],
   "source": [
    "# 设计导入数据函数并将其转化为矩阵\n",
    "def dataImport():\n",
    "    data = pd.read_csv(r'C:\\Users\\HUANG\\Downloads\\house_data.csv', delimiter = ',')\n",
    "    m = data.shape[1] - 1; # 特征数， 减去最后一列\n",
    "    # 这里单纯进行数据计算模拟，未筛选数据\n",
    "    X = data.iloc[:, 0: m].values # 读取0到m-1列\n",
    "    Y = data.iloc[:, -1].values.reshape(-1, 1) # 读取最后一列，并转为二维\n",
    "    return X, Y\n",
    "    "
   ]
  },
  {
   "cell_type": "code",
   "execution_count": 28,
   "id": "55971699-83f4-44f4-8ab0-f366b2ecfea2",
   "metadata": {},
   "outputs": [],
   "source": [
    "#dataImport()"
   ]
  },
  {
   "cell_type": "code",
   "execution_count": 30,
   "id": "54f4d584-42d5-4760-9d70-5ee7e0ae3b90",
   "metadata": {
    "scrolled": true
   },
   "outputs": [],
   "source": [
    "data_x,data_y = dataImport()\n",
    "X = np.insert(data_x, 0, values = 1, axis = 1) # 在特征矩阵前加入一列1，构成可用于计算的矩阵"
   ]
  },
  {
   "cell_type": "code",
   "execution_count": 32,
   "id": "0476abfe-3925-4a96-a24b-d648f057edc4",
   "metadata": {},
   "outputs": [],
   "source": [
    "# 实现最小二乘公式\n",
    "k = np.linalg.inv(X.T.dot(X)).dot(X.T).dot(data_y)"
   ]
  },
  {
   "cell_type": "code",
   "execution_count": 34,
   "id": "3babdc4b-69de-406c-9113-4740b5dbc02c",
   "metadata": {},
   "outputs": [
    {
     "data": {
      "text/plain": [
       "array([[ 3.64594884e+01],\n",
       "       [-1.08011358e-01],\n",
       "       [ 4.64204584e-02],\n",
       "       [ 2.05586264e-02],\n",
       "       [ 2.68673382e+00],\n",
       "       [-1.77666112e+01],\n",
       "       [ 3.80986521e+00],\n",
       "       [ 6.92224640e-04],\n",
       "       [-1.47556685e+00],\n",
       "       [ 3.06049479e-01],\n",
       "       [-1.23345939e-02],\n",
       "       [-9.52747232e-01],\n",
       "       [ 9.31168327e-03],\n",
       "       [-5.24758378e-01]])"
      ]
     },
     "execution_count": 34,
     "metadata": {},
     "output_type": "execute_result"
    }
   ],
   "source": [
    "k # 显示结果，注意到14行1列，符合预期，仅为尝试矩阵运算及最小二乘实现，数据不具有参考价值"
   ]
  },
  {
   "cell_type": "code",
   "execution_count": null,
   "id": "9492534b-5d2b-40e2-80a2-7d77637c3deb",
   "metadata": {},
   "outputs": [],
   "source": []
  },
  {
   "cell_type": "code",
   "execution_count": null,
   "id": "da7f68a7-9bce-4d7d-8f76-de55ae2e8bda",
   "metadata": {},
   "outputs": [],
   "source": []
  }
 ],
 "metadata": {
  "kernelspec": {
   "display_name": "Python [conda env:base] *",
   "language": "python",
   "name": "conda-base-py"
  },
  "language_info": {
   "codemirror_mode": {
    "name": "ipython",
    "version": 3
   },
   "file_extension": ".py",
   "mimetype": "text/x-python",
   "name": "python",
   "nbconvert_exporter": "python",
   "pygments_lexer": "ipython3",
   "version": "3.12.7"
  }
 },
 "nbformat": 4,
 "nbformat_minor": 5
}
